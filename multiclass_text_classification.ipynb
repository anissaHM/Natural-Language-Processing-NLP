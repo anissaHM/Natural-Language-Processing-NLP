{
  "nbformat": 4,
  "nbformat_minor": 0,
  "metadata": {
    "colab": {
      "name": "multiclass_text_classification.ipynb",
      "provenance": [],
      "collapsed_sections": []
    },
    "kernelspec": {
      "name": "python3",
      "display_name": "Python 3"
    },
    "language_info": {
      "name": "python"
    },
    "accelerator": "GPU"
  },
  "cells": [
    {
      "cell_type": "code",
      "metadata": {
        "id": "cqZ9PJbwo2h-"
      },
      "source": [
        "import pandas as pd\n",
        "import tensorflow as tf\n",
        "\n",
        "import matplotlib.image  as mpimg\n",
        "import matplotlib.pyplot as plt\n",
        "\n",
        "from sklearn.model_selection import train_test_split\n",
        "from tensorflow.keras.preprocessing.text import Tokenizer\n",
        "from tensorflow.keras.preprocessing.sequence import pad_sequences"
      ],
      "execution_count": null,
      "outputs": []
    },
    {
      "cell_type": "code",
      "metadata": {
        "colab": {
          "base_uri": "https://localhost:8080/"
        },
        "id": "x0XZpuGZpuKT",
        "outputId": "69b9246b-efc3-40a1-d33e-0f5f35bbf098"
      },
      "source": [
        "!unzip \\*.zip"
      ],
      "execution_count": null,
      "outputs": [
        {
          "output_type": "stream",
          "text": [
            "Archive:  archive (2).zip\n",
            "  inflating: file1.csv               \n"
          ],
          "name": "stdout"
        }
      ]
    },
    {
      "cell_type": "code",
      "metadata": {
        "id": "_YML98dmg9zZ"
      },
      "source": [
        "# Convert the dataset into a dataframe and drop the data that will not be used on the model\n",
        "df = pd.read_csv('file1.csv')\n",
        "df.rename(columns = {'statement' : 'sentence'}, inplace = True)"
      ],
      "execution_count": null,
      "outputs": []
    },
    {
      "cell_type": "code",
      "metadata": {
        "colab": {
          "base_uri": "https://localhost:8080/",
          "height": 419
        },
        "id": "ey1aZ7w6xDhs",
        "outputId": "0191d0a3-7ca2-404f-db61-0e31d0055902"
      },
      "source": [
        "# Process Data (One Hot Encoding)\n",
        "category = pd.get_dummies(df.type)\n",
        "df_new = pd.concat([df, category], axis=1)\n",
        "df_new = df_new.drop(columns='type')\n",
        "df_new"
      ],
      "execution_count": null,
      "outputs": [
        {
          "output_type": "execute_result",
          "data": {
            "text/html": [
              "<div>\n",
              "<style scoped>\n",
              "    .dataframe tbody tr th:only-of-type {\n",
              "        vertical-align: middle;\n",
              "    }\n",
              "\n",
              "    .dataframe tbody tr th {\n",
              "        vertical-align: top;\n",
              "    }\n",
              "\n",
              "    .dataframe thead th {\n",
              "        text-align: right;\n",
              "    }\n",
              "</style>\n",
              "<table border=\"1\" class=\"dataframe\">\n",
              "  <thead>\n",
              "    <tr style=\"text-align: right;\">\n",
              "      <th></th>\n",
              "      <th>sentence</th>\n",
              "      <th>command</th>\n",
              "      <th>question</th>\n",
              "      <th>statement</th>\n",
              "    </tr>\n",
              "  </thead>\n",
              "  <tbody>\n",
              "    <tr>\n",
              "      <th>0</th>\n",
              "      <td>and confirm that address for me please</td>\n",
              "      <td>1</td>\n",
              "      <td>0</td>\n",
              "      <td>0</td>\n",
              "    </tr>\n",
              "    <tr>\n",
              "      <th>1</th>\n",
              "      <td>it's from Birmingham to em London Euston please</td>\n",
              "      <td>0</td>\n",
              "      <td>0</td>\n",
              "      <td>1</td>\n",
              "    </tr>\n",
              "    <tr>\n",
              "      <th>2</th>\n",
              "      <td>the 8th of October</td>\n",
              "      <td>0</td>\n",
              "      <td>0</td>\n",
              "      <td>1</td>\n",
              "    </tr>\n",
              "    <tr>\n",
              "      <th>3</th>\n",
              "      <td>i'd like to leave on the 7:33 train</td>\n",
              "      <td>0</td>\n",
              "      <td>0</td>\n",
              "      <td>1</td>\n",
              "    </tr>\n",
              "    <tr>\n",
              "      <th>4</th>\n",
              "      <td>there's the 7:33 from Birmingham New Street</td>\n",
              "      <td>0</td>\n",
              "      <td>0</td>\n",
              "      <td>1</td>\n",
              "    </tr>\n",
              "    <tr>\n",
              "      <th>...</th>\n",
              "      <td>...</td>\n",
              "      <td>...</td>\n",
              "      <td>...</td>\n",
              "      <td>...</td>\n",
              "    </tr>\n",
              "    <tr>\n",
              "      <th>210061</th>\n",
              "      <td>Come please</td>\n",
              "      <td>1</td>\n",
              "      <td>0</td>\n",
              "      <td>0</td>\n",
              "    </tr>\n",
              "    <tr>\n",
              "      <th>210062</th>\n",
              "      <td>Come on!</td>\n",
              "      <td>1</td>\n",
              "      <td>0</td>\n",
              "      <td>0</td>\n",
              "    </tr>\n",
              "    <tr>\n",
              "      <th>210063</th>\n",
              "      <td>Come on</td>\n",
              "      <td>1</td>\n",
              "      <td>0</td>\n",
              "      <td>0</td>\n",
              "    </tr>\n",
              "    <tr>\n",
              "      <th>210064</th>\n",
              "      <td>Don't eat so much.</td>\n",
              "      <td>1</td>\n",
              "      <td>0</td>\n",
              "      <td>0</td>\n",
              "    </tr>\n",
              "    <tr>\n",
              "      <th>210065</th>\n",
              "      <td>Dont eat so much.</td>\n",
              "      <td>1</td>\n",
              "      <td>0</td>\n",
              "      <td>0</td>\n",
              "    </tr>\n",
              "  </tbody>\n",
              "</table>\n",
              "<p>210066 rows × 4 columns</p>\n",
              "</div>"
            ],
            "text/plain": [
              "                                                sentence  ...  statement\n",
              "0                and confirm that address for me please   ...          0\n",
              "1       it's from Birmingham to em London Euston please   ...          1\n",
              "2                                    the 8th of October   ...          1\n",
              "3                   i'd like to leave on the 7:33 train   ...          1\n",
              "4           there's the 7:33 from Birmingham New Street   ...          1\n",
              "...                                                  ...  ...        ...\n",
              "210061                                       Come please  ...          0\n",
              "210062                                          Come on!  ...          0\n",
              "210063                                           Come on  ...          0\n",
              "210064                                Don't eat so much.  ...          0\n",
              "210065                                 Dont eat so much.  ...          0\n",
              "\n",
              "[210066 rows x 4 columns]"
            ]
          },
          "metadata": {
            "tags": []
          },
          "execution_count": 4
        }
      ]
    },
    {
      "cell_type": "code",
      "metadata": {
        "id": "-LXYScWeyz5q"
      },
      "source": [
        "# Change to numpy array\n",
        "sentence = df_new['sentence'].values\n",
        "label = df_new[['command',\t'question',\t'statement']].values"
      ],
      "execution_count": null,
      "outputs": []
    },
    {
      "cell_type": "code",
      "metadata": {
        "id": "OXfjPAx_0Mkb"
      },
      "source": [
        "# Split Data\n",
        "sentence_train, sentence_test, label_train, label_test = train_test_split(sentence, label, test_size=0.2)"
      ],
      "execution_count": null,
      "outputs": []
    },
    {
      "cell_type": "code",
      "metadata": {
        "id": "e6JKjEtz0ECY"
      },
      "source": [
        "# Convert every word in the dataset to a number\n",
        "tokenizer = Tokenizer(num_words=5000, oov_token='x')\n",
        "tokenizer.fit_on_texts(sentence_train) \n",
        "tokenizer.fit_on_texts(sentence_test)\n",
        " \n",
        "sequences_train = tokenizer.texts_to_sequences(sentence_train)\n",
        "sequences_test = tokenizer.texts_to_sequences(sentence_test)\n",
        " \n",
        "padded_train = pad_sequences(sequences_train) \n",
        "padded_test = pad_sequences(sequences_test)"
      ],
      "execution_count": null,
      "outputs": []
    },
    {
      "cell_type": "code",
      "metadata": {
        "colab": {
          "base_uri": "https://localhost:8080/"
        },
        "id": "qnhD67mF1diF",
        "outputId": "fb29aebb-662f-4f9b-b510-785cc8b5ca92"
      },
      "source": [
        "# The Model\n",
        "model = tf.keras.Sequential([\n",
        "    tf.keras.layers.Embedding(input_dim=5000, output_dim=32),\n",
        "    tf.keras.layers.Dropout(0.2),\n",
        "    tf.keras.layers.Conv1D(128, 5, activation='relu'),\n",
        "    tf.keras.layers.MaxPooling1D(pool_size=4),\n",
        "    tf.keras.layers.LSTM(64),\n",
        "    tf.keras.layers.Dense(128, activation='relu'),\n",
        "    tf.keras.layers.Dense(64, activation='relu'),\n",
        "    tf.keras.layers.Dense(3, activation='sigmoid')\n",
        "])\n",
        "\n",
        "model.compile(loss='categorical_crossentropy',optimizer='adam',metrics=['accuracy'])\n",
        "model.summary()"
      ],
      "execution_count": null,
      "outputs": [
        {
          "output_type": "stream",
          "text": [
            "Model: \"sequential\"\n",
            "_________________________________________________________________\n",
            "Layer (type)                 Output Shape              Param #   \n",
            "=================================================================\n",
            "embedding (Embedding)        (None, None, 32)          160000    \n",
            "_________________________________________________________________\n",
            "dropout (Dropout)            (None, None, 32)          0         \n",
            "_________________________________________________________________\n",
            "conv1d (Conv1D)              (None, None, 128)         20608     \n",
            "_________________________________________________________________\n",
            "max_pooling1d (MaxPooling1D) (None, None, 128)         0         \n",
            "_________________________________________________________________\n",
            "lstm (LSTM)                  (None, 64)                49408     \n",
            "_________________________________________________________________\n",
            "dense (Dense)                (None, 128)               8320      \n",
            "_________________________________________________________________\n",
            "dense_1 (Dense)              (None, 64)                8256      \n",
            "_________________________________________________________________\n",
            "dense_2 (Dense)              (None, 3)                 195       \n",
            "=================================================================\n",
            "Total params: 246,787\n",
            "Trainable params: 246,787\n",
            "Non-trainable params: 0\n",
            "_________________________________________________________________\n"
          ],
          "name": "stdout"
        }
      ]
    },
    {
      "cell_type": "code",
      "metadata": {
        "id": "ysSE40hN4JIW"
      },
      "source": [
        "# Define a Callback class that stops training once accuracy reaches 97.0%\n",
        "class myCallback(tf.keras.callbacks.Callback):\n",
        "  def on_epoch_end(self, epoch, logs={}):\n",
        "    if(logs.get('accuracy')>0.95 and logs.get('val_accuracy')>0.95):\n",
        "      print(\"\\nReached 95.0% accuracy so cancelling training!\")\n",
        "      self.model.stop_training = True\n",
        "\n",
        "callbacks = myCallback()"
      ],
      "execution_count": null,
      "outputs": []
    },
    {
      "cell_type": "code",
      "metadata": {
        "colab": {
          "base_uri": "https://localhost:8080/"
        },
        "id": "A1XUbC3D2uxO",
        "outputId": "ca2a7be7-d1a9-4d4b-9e63-cf53e816bb3a"
      },
      "source": [
        "# Train the Model\n",
        "num_epochs = 10\n",
        "batch = 50\n",
        "history = model.fit(padded_train,\n",
        "                    label_train,\n",
        "                    epochs=num_epochs,\n",
        "                    batch_size = batch, \n",
        "                    validation_data=(padded_test, label_test),\n",
        "                    verbose=1,\n",
        "                    callbacks=[callbacks])"
      ],
      "execution_count": null,
      "outputs": [
        {
          "output_type": "stream",
          "text": [
            "Epoch 1/10\n",
            "3362/3362 [==============================] - 170s 41ms/step - loss: 0.2045 - accuracy: 0.9215 - val_loss: 0.1466 - val_accuracy: 0.9454\n",
            "Epoch 2/10\n",
            "3362/3362 [==============================] - 135s 40ms/step - loss: 0.1436 - accuracy: 0.9465 - val_loss: 0.1347 - val_accuracy: 0.9508\n",
            "Epoch 3/10\n",
            "3362/3362 [==============================] - 127s 38ms/step - loss: 0.1183 - accuracy: 0.9563 - val_loss: 0.1351 - val_accuracy: 0.9503\n",
            "\n",
            "Reached 95.0% accuracy so cancelling training!\n"
          ],
          "name": "stdout"
        }
      ]
    },
    {
      "cell_type": "code",
      "metadata": {
        "colab": {
          "base_uri": "https://localhost:8080/",
          "height": 607
        },
        "id": "8KeeQj4Z3cZl",
        "outputId": "12adb18a-a2d7-4eb7-91ea-8b633673fe2f"
      },
      "source": [
        "# Plot training and validation loss per epoch\n",
        "accuracy=history.history['accuracy']\n",
        "val_accuracy=history.history['val_accuracy']\n",
        "loss=history.history['loss']\n",
        "val_loss=history.history['val_loss']\n",
        "\n",
        "epochs=range(len(accuracy)) \n",
        "\n",
        "plt.plot(epochs, accuracy, 'r')\n",
        "plt.plot(epochs, val_accuracy, 'b')\n",
        "plt.title('Training and validation accuracy')\n",
        "plt.xlabel(\"Epochs\")\n",
        "plt.ylabel(\"accuracy\")\n",
        "plt.legend([\"accuracy\", \"Validation accuracy\"])\n",
        "\n",
        "plt.figure()\n",
        "\n",
        "\n",
        "plt.plot(epochs, loss, 'r')\n",
        "plt.plot(epochs, val_loss, 'b')\n",
        "plt.title('Training and validation loss')\n",
        "plt.xlabel(\"Epochs\")\n",
        "plt.ylabel(\"Loss\")\n",
        "plt.legend([\"Loss\", \"Validation Loss\"])\n",
        "\n",
        "plt.figure()"
      ],
      "execution_count": null,
      "outputs": [
        {
          "output_type": "execute_result",
          "data": {
            "text/plain": [
              "<Figure size 432x288 with 0 Axes>"
            ]
          },
          "metadata": {
            "tags": []
          },
          "execution_count": 0
        },
        {
          "output_type": "display_data",
          "data": {
            "image/png": "[encoded data removed]",
            "text/plain": [
              "<Figure size 432x288 with 1 Axes>"
            ]
          },
          "metadata": {
            "tags": []
          }
        },
        {
          "output_type": "display_data",
          "data": {
            "image/png": "[encoded data removed]",
            "text/plain": [
              "<Figure size 432x288 with 1 Axes>"
            ]
          },
          "metadata": {
            "tags": []
          }
        },
        {
          "output_type": "display_data",
          "data": {
            "text/plain": [
              "<Figure size 432x288 with 0 Axes>"
            ]
          },
          "metadata": {
            "tags": []
          }
        }
      ]
    }
  ]
}